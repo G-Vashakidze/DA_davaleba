{
 "cells": [
  {
   "cell_type": "code",
   "execution_count": 47,
   "id": "46c40707",
   "metadata": {},
   "outputs": [
    {
     "name": "stdout",
     "output_type": "stream",
     "text": [
      "       Date      Time  Latitude  Longitude        Type  Depth  Magnitude  \\\n",
      "0  1/2/1965  13:44:18    19.246    145.616  Earthquake  131.6        6.0   \n",
      "1  1/4/1965  11:29:49     1.863    127.352  Earthquake   80.0        5.8   \n",
      "2  1/5/1965  18:05:58   -20.579   -173.972  Earthquake   20.0        6.2   \n",
      "3  1/8/1965  18:49:43   -59.076    -23.557  Earthquake   15.0        5.8   \n",
      "4  1/9/1965  13:32:50    11.938    126.427  Earthquake   15.0        5.8   \n",
      "\n",
      "             ID  Source Location Source Magnitude Source     Status  \n",
      "0  ISCGEM860706  ISCGEM          ISCGEM           ISCGEM  Automatic  \n",
      "1  ISCGEM860737  ISCGEM          ISCGEM           ISCGEM  Automatic  \n",
      "2  ISCGEM860762  ISCGEM          ISCGEM           ISCGEM  Automatic  \n",
      "3  ISCGEM860856  ISCGEM          ISCGEM           ISCGEM  Automatic  \n",
      "4  ISCGEM860890  ISCGEM          ISCGEM           ISCGEM  Automatic  \n"
     ]
    }
   ],
   "source": [
    "import pandas as pd\n",
    "\n",
    "\n",
    "file_path = 'Earthquakes_database.csv' \n",
    "data = pd.read_csv(file_path)\n",
    "\n",
    "data = data.dropna(axis=1, how='any')\n",
    "\n",
    "\n",
    "print(data.head())\n"
   ]
  },
  {
   "cell_type": "code",
   "execution_count": null,
   "id": "90ed81f0",
   "metadata": {},
   "outputs": [],
   "source": []
  },
  {
   "cell_type": "code",
   "execution_count": 48,
   "id": "efc53c7c",
   "metadata": {},
   "outputs": [
    {
     "name": "stdout",
     "output_type": "stream",
     "text": [
      "   Latitude Latitude_Category  Longitude Longitude_Category\n",
      "0    19.246           (0, 30]    145.616         (120, 180]\n",
      "1     1.863           (0, 30]    127.352         (120, 180]\n",
      "2   -20.579          (-30, 0]   -173.972       (-180, -120]\n",
      "3   -59.076        (-60, -30]    -23.557           (-60, 0]\n",
      "4    11.938           (0, 30]    126.427         (120, 180]\n"
     ]
    }
   ],
   "source": [
    "latitude_bins = [-90, -60, -30, 0, 30, 60, 90]  \n",
    "longitude_bins = [-180, -120, -60, 0, 60, 120, 180]  \n",
    "\n",
    "data['Latitude_Category'] = pd.cut(data['Latitude'], bins=latitude_bins)\n",
    "data['Longitude_Category'] = pd.cut(data['Longitude'], bins=longitude_bins)\n",
    "\n",
    "print(data[['Latitude', 'Latitude_Category', 'Longitude', 'Longitude_Category']].head())"
   ]
  },
  {
   "cell_type": "code",
   "execution_count": 49,
   "id": "6595d564",
   "metadata": {},
   "outputs": [
    {
     "name": "stdout",
     "output_type": "stream",
     "text": [
      "\n",
      "Melted dataset:\n",
      "       Date      Time  Latitude  Longitude Attribute       Value\n",
      "0  1/2/1965  13:44:18    19.246    145.616      Type  Earthquake\n",
      "1  1/4/1965  11:29:49     1.863    127.352      Type  Earthquake\n",
      "2  1/5/1965  18:05:58   -20.579   -173.972      Type  Earthquake\n",
      "3  1/8/1965  18:49:43   -59.076    -23.557      Type  Earthquake\n",
      "4  1/9/1965  13:32:50    11.938    126.427      Type  Earthquake\n"
     ]
    }
   ],
   "source": [
    "id_vars = ['Date', 'Time', 'Latitude', 'Longitude']\n",
    "melted_df = pd.melt(data, id_vars=id_vars, var_name='Attribute', value_name='Value')\n",
    "\n",
    "\n",
    "print(\"\\nMelted dataset:\")\n",
    "print(melted_df.head())"
   ]
  },
  {
   "cell_type": "code",
   "execution_count": 50,
   "id": "6b74b53a",
   "metadata": {
    "scrolled": true
   },
   "outputs": [
    {
     "name": "stdout",
     "output_type": "stream",
     "text": [
      "                       mean       min       max\n",
      "                  Magnitude Magnitude Magnitude\n",
      "Type                                           \n",
      "Earthquake         5.882763       5.5       9.1\n",
      "Explosion          5.850000       5.6       6.4\n",
      "Nuclear Explosion  5.850686       5.5       6.9\n",
      "Rock Burst         6.200000       6.2       6.2\n"
     ]
    }
   ],
   "source": [
    "pivot_table = data.pivot_table(values='Magnitude', index='Type', aggfunc=['mean', 'min', 'max'])\n",
    "\n",
    "print(pivot_table)"
   ]
  },
  {
   "cell_type": "code",
   "execution_count": 51,
   "id": "eafcfcbe",
   "metadata": {},
   "outputs": [
    {
     "name": "stdout",
     "output_type": "stream",
     "text": [
      "       Date      Time  Latitude  Longitude        Type  Depth  Magnitude  \\\n",
      "0  1/2/1965  13:44:18    19.246    145.616  Earthquake  131.6        6.0   \n",
      "1  1/4/1965  11:29:49     1.863    127.352  Earthquake   80.0        5.8   \n",
      "2  1/5/1965  18:05:58   -20.579   -173.972  Earthquake   20.0        6.2   \n",
      "3  1/8/1965  18:49:43   -59.076    -23.557  Earthquake   15.0        5.8   \n",
      "4  1/9/1965  13:32:50    11.938    126.427  Earthquake   15.0        5.8   \n",
      "\n",
      "             ID  Source Location Source Magnitude Source     Status  \\\n",
      "0  ISCGEM860706  ISCGEM          ISCGEM           ISCGEM  Automatic   \n",
      "1  ISCGEM860737  ISCGEM          ISCGEM           ISCGEM  Automatic   \n",
      "2  ISCGEM860762  ISCGEM          ISCGEM           ISCGEM  Automatic   \n",
      "3  ISCGEM860856  ISCGEM          ISCGEM           ISCGEM  Automatic   \n",
      "4  ISCGEM860890  ISCGEM          ISCGEM           ISCGEM  Automatic   \n",
      "\n",
      "  Latitude_Category Longitude_Category  \n",
      "0           (0, 30]         (120, 180]  \n",
      "1           (0, 30]         (120, 180]  \n",
      "2          (-30, 0]       (-180, -120]  \n",
      "3        (-60, -30]           (-60, 0]  \n",
      "4           (0, 30]         (120, 180]  \n"
     ]
    }
   ],
   "source": [
    "print(data.head())"
   ]
  },
  {
   "cell_type": "code",
   "execution_count": null,
   "id": "cd434bc1",
   "metadata": {},
   "outputs": [],
   "source": [
    "\n",
    "import matplotlib.pyplot as plt\n",
    "\n",
    "\n",
    "\n",
    "plt.figure(figsize=(10, 6))\n",
    "plt.plot(data['Date'], data['Magnitude'], marker='o', linestyle='-', color='blue')\n",
    "plt.title('Earthquake Magnitudes Over Time')\n",
    "plt.xlabel('Date')\n",
    "plt.ylabel('Magnitude')\n",
    "plt.xticks(rotation=45)\n",
    "plt.tight_layout()\n",
    "plt.show()"
   ]
  },
  {
   "cell_type": "code",
   "execution_count": null,
   "id": "6cf9ca09",
   "metadata": {},
   "outputs": [],
   "source": [
    "plt.figure(figsize=(8, 6))\n",
    "data['Type'].value_counts().plot(kind='bar', color='green')\n",
    "plt.title('Count of Different Earthquake Types')\n",
    "plt.xlabel('Earthquake Type')\n",
    "plt.ylabel('Count')\n",
    "plt.xticks(rotation=45)\n",
    "plt.tight_layout()\n",
    "plt.show()"
   ]
  },
  {
   "cell_type": "code",
   "execution_count": null,
   "id": "f0de8c26",
   "metadata": {},
   "outputs": [],
   "source": [
    "plt.figure(figsize=(8, 6))\n",
    "plt.scatter(data['Magnitude'], data['Depth'], color='red', alpha=0.5)\n",
    "plt.title('Earthquake Magnitudes vs Depths')\n",
    "plt.xlabel('Magnitude')\n",
    "plt.ylabel('Depth')\n",
    "plt.tight_layout()\n",
    "plt.show()"
   ]
  },
  {
   "cell_type": "code",
   "execution_count": null,
   "id": "8886e667",
   "metadata": {},
   "outputs": [],
   "source": [
    "plt.figure(figsize=(8, 6))\n",
    "plt.hist(data['Depth'], bins=20, color='orange', edgecolor='black')\n",
    "plt.title('Distribution of Earthquake Depths')\n",
    "plt.xlabel('Depth')\n",
    "plt.ylabel('Frequency')\n",
    "plt.tight_layout()\n",
    "plt.show()"
   ]
  },
  {
   "cell_type": "code",
   "execution_count": 54,
   "id": "fcb4768a",
   "metadata": {},
   "outputs": [
    {
     "name": "stdout",
     "output_type": "stream",
     "text": [
      "                 Datetime  Latitude  Longitude        Type   Depth  Magnitude  \\\n",
      "0     1965-01-02 13:44:18   19.2460   145.6160  Earthquake  131.60        6.0   \n",
      "1     1965-01-04 11:29:49    1.8630   127.3520  Earthquake   80.00        5.8   \n",
      "2     1965-01-05 18:05:58  -20.5790  -173.9720  Earthquake   20.00        6.2   \n",
      "3     1965-01-08 18:49:43  -59.0760   -23.5570  Earthquake   15.00        5.8   \n",
      "4     1965-01-09 13:32:50   11.9380   126.4270  Earthquake   15.00        5.8   \n",
      "...                   ...       ...        ...         ...     ...        ...   \n",
      "23407 2016-12-28 08:22:12   38.3917  -118.8941  Earthquake   12.30        5.6   \n",
      "23408 2016-12-28 09:13:47   38.3777  -118.8957  Earthquake    8.80        5.5   \n",
      "23409 2016-12-28 12:38:51   36.9179   140.4262  Earthquake   10.00        5.9   \n",
      "23410 2016-12-29 22:30:19   -9.0283   118.6639  Earthquake   79.00        6.3   \n",
      "23411 2016-12-30 20:08:28   37.3973   141.4103  Earthquake   11.94        5.5   \n",
      "\n",
      "                 ID  Source Location Source Magnitude Source     Status  \\\n",
      "0      ISCGEM860706  ISCGEM          ISCGEM           ISCGEM  Automatic   \n",
      "1      ISCGEM860737  ISCGEM          ISCGEM           ISCGEM  Automatic   \n",
      "2      ISCGEM860762  ISCGEM          ISCGEM           ISCGEM  Automatic   \n",
      "3      ISCGEM860856  ISCGEM          ISCGEM           ISCGEM  Automatic   \n",
      "4      ISCGEM860890  ISCGEM          ISCGEM           ISCGEM  Automatic   \n",
      "...             ...     ...             ...              ...        ...   \n",
      "23407    NN00570710      NN              NN               NN   Reviewed   \n",
      "23408    NN00570744      NN              NN               NN   Reviewed   \n",
      "23409    US10007NAF      US              US               US   Reviewed   \n",
      "23410    US10007NL0      US              US               US   Reviewed   \n",
      "23411    US10007NTD      US              US               US   Reviewed   \n",
      "\n",
      "      Latitude_Category Longitude_Category  \n",
      "0               (0, 30]         (120, 180]  \n",
      "1               (0, 30]         (120, 180]  \n",
      "2              (-30, 0]       (-180, -120]  \n",
      "3            (-60, -30]           (-60, 0]  \n",
      "4               (0, 30]         (120, 180]  \n",
      "...                 ...                ...  \n",
      "23407          (30, 60]        (-120, -60]  \n",
      "23408          (30, 60]        (-120, -60]  \n",
      "23409          (30, 60]         (120, 180]  \n",
      "23410          (-30, 0]          (60, 120]  \n",
      "23411          (30, 60]         (120, 180]  \n",
      "\n",
      "[23412 rows x 13 columns]\n"
     ]
    }
   ],
   "source": [
    "# Convert 'Date' column to datetime format, handling mixed formats\n",
    "data['Date'] = pd.to_datetime(data['Date'], errors='coerce')\n",
    "\n",
    "# Convert 'Time' column to datetime format with the appropriate format for 24-hour time\n",
    "data['Time'] = pd.to_datetime(data['Time'], format='%H:%M:%S', errors='coerce').dt.tz_localize(None)\n",
    "\n",
    "# Fill NaT values in 'Date' column with a default date or handle them as needed\n",
    "data['Date'].fillna(pd.to_datetime('1900-01-01'), inplace=True)  # You can replace '1900-01-01' with any default date\n",
    "\n",
    "# Merge 'Date' and 'Time' columns into a single 'Datetime' column\n",
    "data['Datetime'] = data['Date'] + pd.to_timedelta(data['Time'].dt.strftime('%H:%M:%S'))\n",
    "\n",
    "# Rearrange columns\n",
    "data = data[['Datetime'] + [col for col in data.columns if col != 'Datetime']]  # 'Datetime' column moved to the first position\n",
    "\n",
    "# Drop 'Date' and 'Time' columns\n",
    "data.drop(['Date', 'Time'], axis=1, inplace=True)\n",
    "\n",
    "# Display the updated DataFrame with 'Datetime' as the first column\n",
    "print(data)"
   ]
  },
  {
   "cell_type": "code",
   "execution_count": null,
   "id": "0a184cae",
   "metadata": {},
   "outputs": [],
   "source": []
  },
  {
   "cell_type": "code",
   "execution_count": null,
   "id": "c02e62b8",
   "metadata": {},
   "outputs": [],
   "source": []
  },
  {
   "cell_type": "code",
   "execution_count": null,
   "id": "773c1c63",
   "metadata": {},
   "outputs": [],
   "source": []
  },
  {
   "cell_type": "code",
   "execution_count": null,
   "id": "fc3caf9d",
   "metadata": {},
   "outputs": [],
   "source": []
  },
  {
   "cell_type": "code",
   "execution_count": null,
   "id": "a2f4eda9",
   "metadata": {},
   "outputs": [],
   "source": []
  },
  {
   "cell_type": "code",
   "execution_count": null,
   "id": "681ab6e4",
   "metadata": {},
   "outputs": [],
   "source": []
  }
 ],
 "metadata": {
  "kernelspec": {
   "display_name": "Python 3 (ipykernel)",
   "language": "python",
   "name": "python3"
  },
  "language_info": {
   "codemirror_mode": {
    "name": "ipython",
    "version": 3
   },
   "file_extension": ".py",
   "mimetype": "text/x-python",
   "name": "python",
   "nbconvert_exporter": "python",
   "pygments_lexer": "ipython3",
   "version": "3.11.5"
  }
 },
 "nbformat": 4,
 "nbformat_minor": 5
}
